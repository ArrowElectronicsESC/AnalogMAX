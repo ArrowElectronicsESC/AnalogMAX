{
 "cells": [
  {
   "cell_type": "markdown",
   "metadata": {},
   "source": [
    "# AnalogMax Demo with Jupyter\n",
    "\n",
    "![AnalogMax Image from Top](./AnalogMax.jpg)\n",
    "\n",
    "* [AnalogMax at Arrow](https://www.arrow.com/en/products/analogmax-01/trenz-electronic-gmbh)\n",
    "* [AnalogMax at Trenz Electronic](https://shop.trenz-electronic.de/TEI0010-02-08-C8-AnalogMAX-ADI-Sensor-Hub)\n",
    "* [Online Documentation](https://wiki.trenz-electronic.de/display/PD/TEI0010+-+AnalogMax)\n",
    "\n",
    "**Demo notebooks**\n",
    "* [Smoke Sensor Demo](./AnalogMax_Smoke_Sensor_Demo.ipynb)\n",
    "* [Accelerometer Demo](./AnalogMax_Accelerometer_Demo.ipynb)\n",
    "* [ADC/DAC/GPIO](./AnalogMax_ADC_DAC_GPIO_Demo.ipynb)\n",
    "* [Temperature Sensor](./AnalogMax_Temperature_Demo.ipynb)\n",
    "\n",
    "**Product Pages for board components**\n",
    "* [ADPD188BI Optical Module for Smoke Detection](http://www.analog.com/en/products/optical/optical-sensing-technology/optical-mixed-signal-devices/adpd188bi.html)\n",
    "* [ADXL362 3-Axis MEMS Accelerometer](http://www.analog.com/en/products/sensors-mems/accelerometers/adxl362.html)\n",
    "* [ADT7320 +/-0.25C Accurate 16Bit Temperature Sensor](http://www.analog.com/en/products/analog-to-digital-converters/integrated-special-purpose-converters/digital-temperature-sensors/adt7320.html)\n",
    "* [AD5592R 8 Channel ADC/DAC/GPIO with onchip reference](http://www.analog.com/en/products/analog-to-digital-converters/integrated-special-purpose-converters/ad-da-converter-combinations/ad5592r.html)\n",
    "* [LTC1799 1KHz to 33MHz Resistor Set Oscillator](http://www.analog.com/en/products/clock-and-timing/silicon-oscillators/ltc1799.html)\n",
    "* [Intel MAX 10 FPGA 10M08](https://www.altera.com/products/fpga/max-series/max-10/overview.html)\n",
    "* [LT8607 DC/DC Converter](http://www.analog.com/en/products/lt8607.html)\n",
    "* [ADP160AUJZ-1.8 LDO](http://www.analog.com/en/products/adp160.html)\n"
   ]
  },
  {
   "cell_type": "code",
   "execution_count": null,
   "metadata": {},
   "outputs": [],
   "source": []
  }
 ],
 "metadata": {
  "kernelspec": {
   "display_name": "Python 3",
   "language": "python",
   "name": "python3"
  },
  "language_info": {
   "codemirror_mode": {
    "name": "ipython",
    "version": 3
   },
   "file_extension": ".py",
   "mimetype": "text/x-python",
   "name": "python",
   "nbconvert_exporter": "python",
   "pygments_lexer": "ipython3",
   "version": "3.6.5"
  }
 },
 "nbformat": 4,
 "nbformat_minor": 2
}
